{
 "cells": [
  {
   "cell_type": "code",
   "execution_count": 3,
   "metadata": {},
   "outputs": [
    {
     "data": {
      "text/plain": [
       "Retailer                   object\n",
       "RetailerID                  int64\n",
       "InvoiceDate        datetime64[ns]\n",
       "Region                     object\n",
       "State                      object\n",
       "City                       object\n",
       "Product                    object\n",
       "PriceperUnit              float64\n",
       "UnitsSold                   int64\n",
       "TotalSales                float64\n",
       "OperatingProfit           float64\n",
       "OperatingMargin           float64\n",
       "SalesMethod                object\n",
       "dtype: object"
      ]
     },
     "execution_count": 3,
     "metadata": {},
     "output_type": "execute_result"
    }
   ],
   "source": [
    "import pandas as pd\n",
    "\n",
    "df = pd.read_excel(\"Adidas.xlsx\")\n",
    "df.dtypes"
   ]
  }
 ],
 "metadata": {
  "kernelspec": {
   "display_name": "Python 3",
   "language": "python",
   "name": "python3"
  },
  "language_info": {
   "codemirror_mode": {
    "name": "ipython",
    "version": 3
   },
   "file_extension": ".py",
   "mimetype": "text/x-python",
   "name": "python",
   "nbconvert_exporter": "python",
   "pygments_lexer": "ipython3",
   "version": "3.9.6"
  }
 },
 "nbformat": 4,
 "nbformat_minor": 2
}
